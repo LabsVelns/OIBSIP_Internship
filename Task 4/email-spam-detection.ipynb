{
 "cells": [
  {
   "cell_type": "code",
   "execution_count": 1,
   "id": "d4403650",
   "metadata": {
    "execution": {
     "iopub.execute_input": "2023-11-13T07:03:20.522216Z",
     "iopub.status.busy": "2023-11-13T07:03:20.521643Z",
     "iopub.status.idle": "2023-11-13T07:03:23.767258Z",
     "shell.execute_reply": "2023-11-13T07:03:23.765451Z"
    },
    "papermill": {
     "duration": 3.26307,
     "end_time": "2023-11-13T07:03:23.770038",
     "exception": false,
     "start_time": "2023-11-13T07:03:20.506968",
     "status": "completed"
    },
    "tags": []
   },
   "outputs": [
    {
     "name": "stdout",
     "output_type": "stream",
     "text": [
      "[nltk_data] Downloading package stopwords to /usr/share/nltk_data...\n",
      "[nltk_data]   Package stopwords is already up-to-date!\n",
      "[nltk_data] Downloading package wordnet to /usr/share/nltk_data...\n",
      "[nltk_data]   Package wordnet is already up-to-date!\n"
     ]
    }
   ],
   "source": [
    "import numpy as np\n",
    "import pandas as pd\n",
    "import warnings \n",
    "warnings.filterwarnings('ignore')\n",
    "import matplotlib.pyplot as plt\n",
    "import seaborn as sns\n",
    "from mlxtend.plotting import plot_confusion_matrix\n",
    "\n",
    "import re\n",
    "import nltk\n",
    "nltk.download('stopwords')\n",
    "nltk.download('wordnet')\n",
    "from nltk.corpus import stopwords\n",
    "import string\n",
    "from wordcloud import WordCloud\n",
    "from collections import Counter\n",
    "from nltk.stem.snowball import SnowballStemmer\n",
    "\n",
    "from sklearn.naive_bayes import MultinomialNB\n",
    "from sklearn.metrics import *\n",
    "from sklearn.feature_extraction.text import CountVectorizer,TfidfVectorizer\n",
    "from sklearn.model_selection import train_test_split,GridSearchCV,RandomizedSearchCV\n"
   ]
  },
  {
   "cell_type": "code",
   "execution_count": 2,
   "id": "8bd40fc8",
   "metadata": {
    "execution": {
     "iopub.execute_input": "2023-11-13T07:03:23.795156Z",
     "iopub.status.busy": "2023-11-13T07:03:23.794609Z",
     "iopub.status.idle": "2023-11-13T07:03:23.863453Z",
     "shell.execute_reply": "2023-11-13T07:03:23.862444Z"
    },
    "papermill": {
     "duration": 0.084383,
     "end_time": "2023-11-13T07:03:23.866081",
     "exception": false,
     "start_time": "2023-11-13T07:03:23.781698",
     "status": "completed"
    },
    "tags": []
   },
   "outputs": [
    {
     "data": {
      "text/html": [
       "<div>\n",
       "<style scoped>\n",
       "    .dataframe tbody tr th:only-of-type {\n",
       "        vertical-align: middle;\n",
       "    }\n",
       "\n",
       "    .dataframe tbody tr th {\n",
       "        vertical-align: top;\n",
       "    }\n",
       "\n",
       "    .dataframe thead th {\n",
       "        text-align: right;\n",
       "    }\n",
       "</style>\n",
       "<table border=\"1\" class=\"dataframe\">\n",
       "  <thead>\n",
       "    <tr style=\"text-align: right;\">\n",
       "      <th></th>\n",
       "      <th>v1</th>\n",
       "      <th>v2</th>\n",
       "    </tr>\n",
       "  </thead>\n",
       "  <tbody>\n",
       "    <tr>\n",
       "      <th>0</th>\n",
       "      <td>ham</td>\n",
       "      <td>Go until jurong point, crazy.. Available only ...</td>\n",
       "    </tr>\n",
       "    <tr>\n",
       "      <th>1</th>\n",
       "      <td>ham</td>\n",
       "      <td>Ok lar... Joking wif u oni...</td>\n",
       "    </tr>\n",
       "    <tr>\n",
       "      <th>2</th>\n",
       "      <td>spam</td>\n",
       "      <td>Free entry in 2 a wkly comp to win FA Cup fina...</td>\n",
       "    </tr>\n",
       "    <tr>\n",
       "      <th>3</th>\n",
       "      <td>ham</td>\n",
       "      <td>U dun say so early hor... U c already then say...</td>\n",
       "    </tr>\n",
       "    <tr>\n",
       "      <th>4</th>\n",
       "      <td>ham</td>\n",
       "      <td>Nah I don't think he goes to usf, he lives aro...</td>\n",
       "    </tr>\n",
       "    <tr>\n",
       "      <th>...</th>\n",
       "      <td>...</td>\n",
       "      <td>...</td>\n",
       "    </tr>\n",
       "    <tr>\n",
       "      <th>5567</th>\n",
       "      <td>spam</td>\n",
       "      <td>This is the 2nd time we have tried 2 contact u...</td>\n",
       "    </tr>\n",
       "    <tr>\n",
       "      <th>5568</th>\n",
       "      <td>ham</td>\n",
       "      <td>Will Ì_ b going to esplanade fr home?</td>\n",
       "    </tr>\n",
       "    <tr>\n",
       "      <th>5569</th>\n",
       "      <td>ham</td>\n",
       "      <td>Pity, * was in mood for that. So...any other s...</td>\n",
       "    </tr>\n",
       "    <tr>\n",
       "      <th>5570</th>\n",
       "      <td>ham</td>\n",
       "      <td>The guy did some bitching but I acted like i'd...</td>\n",
       "    </tr>\n",
       "    <tr>\n",
       "      <th>5571</th>\n",
       "      <td>ham</td>\n",
       "      <td>Rofl. Its true to its name</td>\n",
       "    </tr>\n",
       "  </tbody>\n",
       "</table>\n",
       "<p>5572 rows × 2 columns</p>\n",
       "</div>"
      ],
      "text/plain": [
       "        v1                                                 v2\n",
       "0      ham  Go until jurong point, crazy.. Available only ...\n",
       "1      ham                      Ok lar... Joking wif u oni...\n",
       "2     spam  Free entry in 2 a wkly comp to win FA Cup fina...\n",
       "3      ham  U dun say so early hor... U c already then say...\n",
       "4      ham  Nah I don't think he goes to usf, he lives aro...\n",
       "...    ...                                                ...\n",
       "5567  spam  This is the 2nd time we have tried 2 contact u...\n",
       "5568   ham              Will Ì_ b going to esplanade fr home?\n",
       "5569   ham  Pity, * was in mood for that. So...any other s...\n",
       "5570   ham  The guy did some bitching but I acted like i'd...\n",
       "5571   ham                         Rofl. Its true to its name\n",
       "\n",
       "[5572 rows x 2 columns]"
      ]
     },
     "execution_count": 2,
     "metadata": {},
     "output_type": "execute_result"
    }
   ],
   "source": [
    "df = pd.read_csv('/kaggle/input/sms-spam-collection-dataset/spam.csv', encoding = 'latin', usecols = ['v1','v2'])\n",
    "df"
   ]
  },
  {
   "cell_type": "markdown",
   "id": "17a707ca",
   "metadata": {
    "papermill": {
     "duration": 0.011325,
     "end_time": "2023-11-13T07:03:23.889121",
     "exception": false,
     "start_time": "2023-11-13T07:03:23.877796",
     "status": "completed"
    },
    "tags": []
   },
   "source": [
    "# EDA"
   ]
  },
  {
   "cell_type": "code",
   "execution_count": 3,
   "id": "28de61f6",
   "metadata": {
    "execution": {
     "iopub.execute_input": "2023-11-13T07:03:23.914927Z",
     "iopub.status.busy": "2023-11-13T07:03:23.914100Z",
     "iopub.status.idle": "2023-11-13T07:03:23.922297Z",
     "shell.execute_reply": "2023-11-13T07:03:23.920884Z"
    },
    "papermill": {
     "duration": 0.024264,
     "end_time": "2023-11-13T07:03:23.925117",
     "exception": false,
     "start_time": "2023-11-13T07:03:23.900853",
     "status": "completed"
    },
    "tags": []
   },
   "outputs": [],
   "source": [
    "df.columns = ['label','text']"
   ]
  },
  {
   "cell_type": "code",
   "execution_count": 4,
   "id": "38000991",
   "metadata": {
    "execution": {
     "iopub.execute_input": "2023-11-13T07:03:23.950973Z",
     "iopub.status.busy": "2023-11-13T07:03:23.950516Z",
     "iopub.status.idle": "2023-11-13T07:03:23.963399Z",
     "shell.execute_reply": "2023-11-13T07:03:23.961867Z"
    },
    "papermill": {
     "duration": 0.028758,
     "end_time": "2023-11-13T07:03:23.965957",
     "exception": false,
     "start_time": "2023-11-13T07:03:23.937199",
     "status": "completed"
    },
    "tags": []
   },
   "outputs": [
    {
     "data": {
      "text/plain": [
       "label    0\n",
       "text     0\n",
       "dtype: int64"
      ]
     },
     "execution_count": 4,
     "metadata": {},
     "output_type": "execute_result"
    }
   ],
   "source": [
    "df.isnull().sum()"
   ]
  },
  {
   "cell_type": "code",
   "execution_count": 5,
   "id": "5db58cd2",
   "metadata": {
    "execution": {
     "iopub.execute_input": "2023-11-13T07:03:23.993820Z",
     "iopub.status.busy": "2023-11-13T07:03:23.992946Z",
     "iopub.status.idle": "2023-11-13T07:03:24.011826Z",
     "shell.execute_reply": "2023-11-13T07:03:24.010579Z"
    },
    "papermill": {
     "duration": 0.035937,
     "end_time": "2023-11-13T07:03:24.014460",
     "exception": false,
     "start_time": "2023-11-13T07:03:23.978523",
     "status": "completed"
    },
    "tags": []
   },
   "outputs": [
    {
     "data": {
      "text/plain": [
       "403"
      ]
     },
     "execution_count": 5,
     "metadata": {},
     "output_type": "execute_result"
    }
   ],
   "source": [
    "df.duplicated().sum()"
   ]
  },
  {
   "cell_type": "code",
   "execution_count": 6,
   "id": "aed6ad89",
   "metadata": {
    "execution": {
     "iopub.execute_input": "2023-11-13T07:03:24.040805Z",
     "iopub.status.busy": "2023-11-13T07:03:24.040342Z",
     "iopub.status.idle": "2023-11-13T07:03:24.054338Z",
     "shell.execute_reply": "2023-11-13T07:03:24.052957Z"
    },
    "papermill": {
     "duration": 0.030751,
     "end_time": "2023-11-13T07:03:24.057350",
     "exception": false,
     "start_time": "2023-11-13T07:03:24.026599",
     "status": "completed"
    },
    "tags": []
   },
   "outputs": [],
   "source": [
    "df.drop_duplicates(inplace = True)"
   ]
  },
  {
   "cell_type": "code",
   "execution_count": 7,
   "id": "40a3064f",
   "metadata": {
    "execution": {
     "iopub.execute_input": "2023-11-13T07:03:24.084365Z",
     "iopub.status.busy": "2023-11-13T07:03:24.083856Z",
     "iopub.status.idle": "2023-11-13T07:03:24.107434Z",
     "shell.execute_reply": "2023-11-13T07:03:24.106210Z"
    },
    "papermill": {
     "duration": 0.040361,
     "end_time": "2023-11-13T07:03:24.109908",
     "exception": false,
     "start_time": "2023-11-13T07:03:24.069547",
     "status": "completed"
    },
    "tags": []
   },
   "outputs": [
    {
     "data": {
      "text/html": [
       "<div>\n",
       "<style scoped>\n",
       "    .dataframe tbody tr th:only-of-type {\n",
       "        vertical-align: middle;\n",
       "    }\n",
       "\n",
       "    .dataframe tbody tr th {\n",
       "        vertical-align: top;\n",
       "    }\n",
       "\n",
       "    .dataframe thead th {\n",
       "        text-align: right;\n",
       "    }\n",
       "</style>\n",
       "<table border=\"1\" class=\"dataframe\">\n",
       "  <thead>\n",
       "    <tr style=\"text-align: right;\">\n",
       "      <th></th>\n",
       "      <th>label</th>\n",
       "      <th>text</th>\n",
       "    </tr>\n",
       "  </thead>\n",
       "  <tbody>\n",
       "    <tr>\n",
       "      <th>count</th>\n",
       "      <td>5169</td>\n",
       "      <td>5169</td>\n",
       "    </tr>\n",
       "    <tr>\n",
       "      <th>unique</th>\n",
       "      <td>2</td>\n",
       "      <td>5169</td>\n",
       "    </tr>\n",
       "    <tr>\n",
       "      <th>top</th>\n",
       "      <td>ham</td>\n",
       "      <td>Go until jurong point, crazy.. Available only ...</td>\n",
       "    </tr>\n",
       "    <tr>\n",
       "      <th>freq</th>\n",
       "      <td>4516</td>\n",
       "      <td>1</td>\n",
       "    </tr>\n",
       "  </tbody>\n",
       "</table>\n",
       "</div>"
      ],
      "text/plain": [
       "       label                                               text\n",
       "count   5169                                               5169\n",
       "unique     2                                               5169\n",
       "top      ham  Go until jurong point, crazy.. Available only ...\n",
       "freq    4516                                                  1"
      ]
     },
     "execution_count": 7,
     "metadata": {},
     "output_type": "execute_result"
    }
   ],
   "source": [
    "df.describe()"
   ]
  },
  {
   "cell_type": "code",
   "execution_count": 8,
   "id": "8d6d046c",
   "metadata": {
    "execution": {
     "iopub.execute_input": "2023-11-13T07:03:24.136763Z",
     "iopub.status.busy": "2023-11-13T07:03:24.136034Z",
     "iopub.status.idle": "2023-11-13T07:03:24.144482Z",
     "shell.execute_reply": "2023-11-13T07:03:24.143435Z"
    },
    "papermill": {
     "duration": 0.024306,
     "end_time": "2023-11-13T07:03:24.146696",
     "exception": false,
     "start_time": "2023-11-13T07:03:24.122390",
     "status": "completed"
    },
    "tags": []
   },
   "outputs": [
    {
     "data": {
      "text/plain": [
       "label\n",
       "ham     4516\n",
       "spam     653\n",
       "Name: count, dtype: int64"
      ]
     },
     "execution_count": 8,
     "metadata": {},
     "output_type": "execute_result"
    }
   ],
   "source": [
    "df['label'].value_counts()"
   ]
  },
  {
   "cell_type": "code",
   "execution_count": 9,
   "id": "87db01af",
   "metadata": {
    "execution": {
     "iopub.execute_input": "2023-11-13T07:03:24.173802Z",
     "iopub.status.busy": "2023-11-13T07:03:24.173036Z",
     "iopub.status.idle": "2023-11-13T07:03:24.180868Z",
     "shell.execute_reply": "2023-11-13T07:03:24.179776Z"
    },
    "papermill": {
     "duration": 0.024364,
     "end_time": "2023-11-13T07:03:24.183470",
     "exception": false,
     "start_time": "2023-11-13T07:03:24.159106",
     "status": "completed"
    },
    "tags": []
   },
   "outputs": [
    {
     "data": {
      "text/plain": [
       "5567    This is the 2nd time we have tried 2 contact u...\n",
       "5568                Will Ì_ b going to esplanade fr home?\n",
       "5569    Pity, * was in mood for that. So...any other s...\n",
       "5570    The guy did some bitching but I acted like i'd...\n",
       "5571                           Rofl. Its true to its name\n",
       "Name: text, dtype: object"
      ]
     },
     "execution_count": 9,
     "metadata": {},
     "output_type": "execute_result"
    }
   ],
   "source": [
    "df['text'].tail()"
   ]
  },
  {
   "cell_type": "markdown",
   "id": "a51f1edb",
   "metadata": {
    "papermill": {
     "duration": 0.012221,
     "end_time": "2023-11-13T07:03:24.209352",
     "exception": false,
     "start_time": "2023-11-13T07:03:24.197131",
     "status": "completed"
    },
    "tags": []
   },
   "source": [
    "# PreProcessing"
   ]
  },
  {
   "cell_type": "code",
   "execution_count": 10,
   "id": "63f717d8",
   "metadata": {
    "execution": {
     "iopub.execute_input": "2023-11-13T07:03:24.236524Z",
     "iopub.status.busy": "2023-11-13T07:03:24.236047Z",
     "iopub.status.idle": "2023-11-13T07:03:24.246680Z",
     "shell.execute_reply": "2023-11-13T07:03:24.245446Z"
    },
    "papermill": {
     "duration": 0.027504,
     "end_time": "2023-11-13T07:03:24.249555",
     "exception": false,
     "start_time": "2023-11-13T07:03:24.222051",
     "status": "completed"
    },
    "tags": []
   },
   "outputs": [],
   "source": [
    "df['label'] = df['label'].map({'spam':1,\n",
    "                              'ham':0})\n"
   ]
  },
  {
   "cell_type": "code",
   "execution_count": 11,
   "id": "cbfe6a80",
   "metadata": {
    "execution": {
     "iopub.execute_input": "2023-11-13T07:03:24.277417Z",
     "iopub.status.busy": "2023-11-13T07:03:24.277033Z",
     "iopub.status.idle": "2023-11-13T07:03:24.473100Z",
     "shell.execute_reply": "2023-11-13T07:03:24.471940Z"
    },
    "papermill": {
     "duration": 0.215032,
     "end_time": "2023-11-13T07:03:24.477542",
     "exception": false,
     "start_time": "2023-11-13T07:03:24.262510",
     "status": "completed"
    },
    "tags": []
   },
   "outputs": [
    {
     "data": {
      "image/png": "[encoded data removed]",
      "text/plain": [
       "<Figure size 500x500 with 1 Axes>"
      ]
     },
     "metadata": {},
     "output_type": "display_data"
    }
   ],
   "source": [
    "total_0, total_1 = len(df[df[\"label\"] == 0]), len(df[df[\"label\"] == 1])\n",
    "label = np.array([\"Ham\", \"Spam\"])\n",
    "values = np.array([total_0, total_1])\n",
    "plt.figure(figsize=(5, 5))\n",
    "plt.pie(values, labels=label, autopct=\"%.1f%%\")\n",
    "plt.show()"
   ]
  },
  {
   "cell_type": "code",
   "execution_count": 12,
   "id": "c8bb2df3",
   "metadata": {
    "execution": {
     "iopub.execute_input": "2023-11-13T07:03:24.530355Z",
     "iopub.status.busy": "2023-11-13T07:03:24.529945Z",
     "iopub.status.idle": "2023-11-13T07:03:24.537846Z",
     "shell.execute_reply": "2023-11-13T07:03:24.536771Z"
    },
    "papermill": {
     "duration": 0.034336,
     "end_time": "2023-11-13T07:03:24.540186",
     "exception": false,
     "start_time": "2023-11-13T07:03:24.505850",
     "status": "completed"
    },
    "tags": []
   },
   "outputs": [],
   "source": [
    "stop_words = set(stopwords.words('english'))\n"
   ]
  },
  {
   "cell_type": "code",
   "execution_count": 13,
   "id": "dc08249f",
   "metadata": {
    "execution": {
     "iopub.execute_input": "2023-11-13T07:03:24.568028Z",
     "iopub.status.busy": "2023-11-13T07:03:24.567619Z",
     "iopub.status.idle": "2023-11-13T07:03:24.573487Z",
     "shell.execute_reply": "2023-11-13T07:03:24.572606Z"
    },
    "papermill": {
     "duration": 0.022234,
     "end_time": "2023-11-13T07:03:24.575512",
     "exception": false,
     "start_time": "2023-11-13T07:03:24.553278",
     "status": "completed"
    },
    "tags": []
   },
   "outputs": [],
   "source": [
    "def clean(text):\n",
    "    text = text.lower()\n",
    "    text = \" \".join([i for i in text.split() if i  not in stop_words])\n",
    "    stem = SnowballStemmer(\"english\")\n",
    "    text = \" \".join([stem.stem(i) for i in text.split()])\n",
    "    \n",
    "    return text"
   ]
  },
  {
   "cell_type": "code",
   "execution_count": 14,
   "id": "2b9e2025",
   "metadata": {
    "execution": {
     "iopub.execute_input": "2023-11-13T07:03:24.603157Z",
     "iopub.status.busy": "2023-11-13T07:03:24.602735Z",
     "iopub.status.idle": "2023-11-13T07:03:25.733915Z",
     "shell.execute_reply": "2023-11-13T07:03:25.732469Z"
    },
    "papermill": {
     "duration": 1.149133,
     "end_time": "2023-11-13T07:03:25.737568",
     "exception": false,
     "start_time": "2023-11-13T07:03:24.588435",
     "status": "completed"
    },
    "tags": []
   },
   "outputs": [],
   "source": [
    "df['text'] = df['text'].apply(clean)"
   ]
  },
  {
   "cell_type": "markdown",
   "id": "308421ba",
   "metadata": {
    "papermill": {
     "duration": 0.016259,
     "end_time": "2023-11-13T07:03:25.773682",
     "exception": false,
     "start_time": "2023-11-13T07:03:25.757423",
     "status": "completed"
    },
    "tags": []
   },
   "source": [
    "# Feature Scaling"
   ]
  },
  {
   "cell_type": "code",
   "execution_count": 15,
   "id": "4f5019e1",
   "metadata": {
    "execution": {
     "iopub.execute_input": "2023-11-13T07:03:25.801458Z",
     "iopub.status.busy": "2023-11-13T07:03:25.801052Z",
     "iopub.status.idle": "2023-11-13T07:03:25.806462Z",
     "shell.execute_reply": "2023-11-13T07:03:25.805111Z"
    },
    "papermill": {
     "duration": 0.023273,
     "end_time": "2023-11-13T07:03:25.809895",
     "exception": false,
     "start_time": "2023-11-13T07:03:25.786622",
     "status": "completed"
    },
    "tags": []
   },
   "outputs": [],
   "source": [
    "X = df['text']\n",
    "y = df['label']"
   ]
  },
  {
   "cell_type": "code",
   "execution_count": 16,
   "id": "f8978a40",
   "metadata": {
    "execution": {
     "iopub.execute_input": "2023-11-13T07:03:25.839506Z",
     "iopub.status.busy": "2023-11-13T07:03:25.839124Z",
     "iopub.status.idle": "2023-11-13T07:03:25.851028Z",
     "shell.execute_reply": "2023-11-13T07:03:25.849756Z"
    },
    "papermill": {
     "duration": 0.029152,
     "end_time": "2023-11-13T07:03:25.853991",
     "exception": false,
     "start_time": "2023-11-13T07:03:25.824839",
     "status": "completed"
    },
    "tags": []
   },
   "outputs": [],
   "source": [
    "Xtrain,Xtest,ytrain,ytest = train_test_split(X,y,test_size = 0.2,random_state = 43, stratify = y)"
   ]
  },
  {
   "cell_type": "code",
   "execution_count": 17,
   "id": "dec351f8",
   "metadata": {
    "execution": {
     "iopub.execute_input": "2023-11-13T07:03:25.882214Z",
     "iopub.status.busy": "2023-11-13T07:03:25.881479Z",
     "iopub.status.idle": "2023-11-13T07:03:26.742196Z",
     "shell.execute_reply": "2023-11-13T07:03:26.741067Z"
    },
    "papermill": {
     "duration": 0.877503,
     "end_time": "2023-11-13T07:03:26.744999",
     "exception": false,
     "start_time": "2023-11-13T07:03:25.867496",
     "status": "completed"
    },
    "tags": []
   },
   "outputs": [],
   "source": [
    "tfidf = TfidfVectorizer(ngram_range = (1,3))\n",
    "cv = CountVectorizer(ngram_range = (1,3))\n",
    "\n",
    "Xtrain_idf = tfidf.fit_transform(Xtrain)\n",
    "Xtest_idf = tfidf.transform(Xtest)\n",
    "\n",
    "Xtrain_cv = cv.fit_transform(Xtrain)\n",
    "Xtest_cv = cv.transform(Xtest)"
   ]
  },
  {
   "cell_type": "markdown",
   "id": "bc68e4d1",
   "metadata": {
    "papermill": {
     "duration": 0.012579,
     "end_time": "2023-11-13T07:03:26.770749",
     "exception": false,
     "start_time": "2023-11-13T07:03:26.758170",
     "status": "completed"
    },
    "tags": []
   },
   "source": [
    "# Modelling"
   ]
  },
  {
   "cell_type": "markdown",
   "id": "b688117c",
   "metadata": {
    "papermill": {
     "duration": 0.012383,
     "end_time": "2023-11-13T07:03:26.795860",
     "exception": false,
     "start_time": "2023-11-13T07:03:26.783477",
     "status": "completed"
    },
    "tags": []
   },
   "source": [
    "## MultinomialNB + TFIDF"
   ]
  },
  {
   "cell_type": "code",
   "execution_count": 18,
   "id": "0d3734c6",
   "metadata": {
    "execution": {
     "iopub.execute_input": "2023-11-13T07:03:26.823627Z",
     "iopub.status.busy": "2023-11-13T07:03:26.823253Z",
     "iopub.status.idle": "2023-11-13T07:03:26.829490Z",
     "shell.execute_reply": "2023-11-13T07:03:26.828280Z"
    },
    "papermill": {
     "duration": 0.022865,
     "end_time": "2023-11-13T07:03:26.831795",
     "exception": false,
     "start_time": "2023-11-13T07:03:26.808930",
     "status": "completed"
    },
    "tags": []
   },
   "outputs": [],
   "source": [
    "mnb = MultinomialNB()\n",
    "\n",
    "params = {'alpha':[0.1,0.5,0.8,1,2,5,7,10]}\n",
    "\n",
    "rcv = RandomizedSearchCV(mnb,\n",
    "                        params,\n",
    "                        scoring = 'accuracy',\n",
    "                        cv = 10,\n",
    "                         n_jobs = -1,\n",
    "                         random_state = 3,\n",
    "                         verbose = 3\n",
    "                        )"
   ]
  },
  {
   "cell_type": "code",
   "execution_count": 19,
   "id": "a53d6ed0",
   "metadata": {
    "execution": {
     "iopub.execute_input": "2023-11-13T07:03:26.922023Z",
     "iopub.status.busy": "2023-11-13T07:03:26.920779Z",
     "iopub.status.idle": "2023-11-13T07:03:29.385325Z",
     "shell.execute_reply": "2023-11-13T07:03:29.383988Z"
    },
    "papermill": {
     "duration": 2.481682,
     "end_time": "2023-11-13T07:03:29.388067",
     "exception": false,
     "start_time": "2023-11-13T07:03:26.906385",
     "status": "completed"
    },
    "tags": []
   },
   "outputs": [
    {
     "name": "stdout",
     "output_type": "stream",
     "text": [
      "Fitting 10 folds for each of 8 candidates, totalling 80 fits\n"
     ]
    },
    {
     "data": {
      "text/html": [
       "<style>#sk-container-id-1 {color: black;background-color: white;}#sk-container-id-1 pre{padding: 0;}#sk-container-id-1 div.sk-toggleable {background-color: white;}#sk-container-id-1 label.sk-toggleable__label {cursor: pointer;display: block;width: 100%;margin-bottom: 0;padding: 0.3em;box-sizing: border-box;text-align: center;}#sk-container-id-1 label.sk-toggleable__label-arrow:before {content: \"▸\";float: left;margin-right: 0.25em;color: #696969;}#sk-container-id-1 label.sk-toggleable__label-arrow:hover:before {color: black;}#sk-container-id-1 div.sk-estimator:hover label.sk-toggleable__label-arrow:before {color: black;}#sk-container-id-1 div.sk-toggleable__content {max-height: 0;max-width: 0;overflow: hidden;text-align: left;background-color: #f0f8ff;}#sk-container-id-1 div.sk-toggleable__content pre {margin: 0.2em;color: black;border-radius: 0.25em;background-color: #f0f8ff;}#sk-container-id-1 input.sk-toggleable__control:checked~div.sk-toggleable__content {max-height: 200px;max-width: 100%;overflow: auto;}#sk-container-id-1 input.sk-toggleable__control:checked~label.sk-toggleable__label-arrow:before {content: \"▾\";}#sk-container-id-1 div.sk-estimator input.sk-toggleable__control:checked~label.sk-toggleable__label {background-color: #d4ebff;}#sk-container-id-1 div.sk-label input.sk-toggleable__control:checked~label.sk-toggleable__label {background-color: #d4ebff;}#sk-container-id-1 input.sk-hidden--visually {border: 0;clip: rect(1px 1px 1px 1px);clip: rect(1px, 1px, 1px, 1px);height: 1px;margin: -1px;overflow: hidden;padding: 0;position: absolute;width: 1px;}#sk-container-id-1 div.sk-estimator {font-family: monospace;background-color: #f0f8ff;border: 1px dotted black;border-radius: 0.25em;box-sizing: border-box;margin-bottom: 0.5em;}#sk-container-id-1 div.sk-estimator:hover {background-color: #d4ebff;}#sk-container-id-1 div.sk-parallel-item::after {content: \"\";width: 100%;border-bottom: 1px solid gray;flex-grow: 1;}#sk-container-id-1 div.sk-label:hover label.sk-toggleable__label {background-color: #d4ebff;}#sk-container-id-1 div.sk-serial::before {content: \"\";position: absolute;border-left: 1px solid gray;box-sizing: border-box;top: 0;bottom: 0;left: 50%;z-index: 0;}#sk-container-id-1 div.sk-serial {display: flex;flex-direction: column;align-items: center;background-color: white;padding-right: 0.2em;padding-left: 0.2em;position: relative;}#sk-container-id-1 div.sk-item {position: relative;z-index: 1;}#sk-container-id-1 div.sk-parallel {display: flex;align-items: stretch;justify-content: center;background-color: white;position: relative;}#sk-container-id-1 div.sk-item::before, #sk-container-id-1 div.sk-parallel-item::before {content: \"\";position: absolute;border-left: 1px solid gray;box-sizing: border-box;top: 0;bottom: 0;left: 50%;z-index: -1;}#sk-container-id-1 div.sk-parallel-item {display: flex;flex-direction: column;z-index: 1;position: relative;background-color: white;}#sk-container-id-1 div.sk-parallel-item:first-child::after {align-self: flex-end;width: 50%;}#sk-container-id-1 div.sk-parallel-item:last-child::after {align-self: flex-start;width: 50%;}#sk-container-id-1 div.sk-parallel-item:only-child::after {width: 0;}#sk-container-id-1 div.sk-dashed-wrapped {border: 1px dashed gray;margin: 0 0.4em 0.5em 0.4em;box-sizing: border-box;padding-bottom: 0.4em;background-color: white;}#sk-container-id-1 div.sk-label label {font-family: monospace;font-weight: bold;display: inline-block;line-height: 1.2em;}#sk-container-id-1 div.sk-label-container {text-align: center;}#sk-container-id-1 div.sk-container {/* jupyter's `normalize.less` sets `[hidden] { display: none; }` but bootstrap.min.css set `[hidden] { display: none !important; }` so we also need the `!important` here to be able to override the default hidden behavior on the sphinx rendered scikit-learn.org. See: https://github.com/scikit-learn/scikit-learn/issues/21755 */display: inline-block !important;position: relative;}#sk-container-id-1 div.sk-text-repr-fallback {display: none;}</style><div id=\"sk-container-id-1\" class=\"sk-top-container\"><div class=\"sk-text-repr-fallback\"><pre>RandomizedSearchCV(cv=10, estimator=MultinomialNB(), n_jobs=-1,\n",
       "                   param_distributions={&#x27;alpha&#x27;: [0.1, 0.5, 0.8, 1, 2, 5, 7,\n",
       "                                                  10]},\n",
       "                   random_state=3, scoring=&#x27;accuracy&#x27;, verbose=3)</pre><b>In a Jupyter environment, please rerun this cell to show the HTML representation or trust the notebook. <br />On GitHub, the HTML representation is unable to render, please try loading this page with nbviewer.org.</b></div><div class=\"sk-container\" hidden><div class=\"sk-item sk-dashed-wrapped\"><div class=\"sk-label-container\"><div class=\"sk-label sk-toggleable\"><input class=\"sk-toggleable__control sk-hidden--visually\" id=\"sk-estimator-id-1\" type=\"checkbox\" ><label for=\"sk-estimator-id-1\" class=\"sk-toggleable__label sk-toggleable__label-arrow\">RandomizedSearchCV</label><div class=\"sk-toggleable__content\"><pre>RandomizedSearchCV(cv=10, estimator=MultinomialNB(), n_jobs=-1,\n",
       "                   param_distributions={&#x27;alpha&#x27;: [0.1, 0.5, 0.8, 1, 2, 5, 7,\n",
       "                                                  10]},\n",
       "                   random_state=3, scoring=&#x27;accuracy&#x27;, verbose=3)</pre></div></div></div><div class=\"sk-parallel\"><div class=\"sk-parallel-item\"><div class=\"sk-item\"><div class=\"sk-label-container\"><div class=\"sk-label sk-toggleable\"><input class=\"sk-toggleable__control sk-hidden--visually\" id=\"sk-estimator-id-2\" type=\"checkbox\" ><label for=\"sk-estimator-id-2\" class=\"sk-toggleable__label sk-toggleable__label-arrow\">estimator: MultinomialNB</label><div class=\"sk-toggleable__content\"><pre>MultinomialNB()</pre></div></div></div><div class=\"sk-serial\"><div class=\"sk-item\"><div class=\"sk-estimator sk-toggleable\"><input class=\"sk-toggleable__control sk-hidden--visually\" id=\"sk-estimator-id-3\" type=\"checkbox\" ><label for=\"sk-estimator-id-3\" class=\"sk-toggleable__label sk-toggleable__label-arrow\">MultinomialNB</label><div class=\"sk-toggleable__content\"><pre>MultinomialNB()</pre></div></div></div></div></div></div></div></div></div></div>"
      ],
      "text/plain": [
       "RandomizedSearchCV(cv=10, estimator=MultinomialNB(), n_jobs=-1,\n",
       "                   param_distributions={'alpha': [0.1, 0.5, 0.8, 1, 2, 5, 7,\n",
       "                                                  10]},\n",
       "                   random_state=3, scoring='accuracy', verbose=3)"
      ]
     },
     "execution_count": 19,
     "metadata": {},
     "output_type": "execute_result"
    }
   ],
   "source": [
    "rcv.fit(Xtrain_idf,ytrain)"
   ]
  },
  {
   "cell_type": "code",
   "execution_count": 20,
   "id": "df115d1e",
   "metadata": {
    "execution": {
     "iopub.execute_input": "2023-11-13T07:03:29.417140Z",
     "iopub.status.busy": "2023-11-13T07:03:29.416654Z",
     "iopub.status.idle": "2023-11-13T07:03:29.423097Z",
     "shell.execute_reply": "2023-11-13T07:03:29.421982Z"
    },
    "papermill": {
     "duration": 0.024257,
     "end_time": "2023-11-13T07:03:29.425718",
     "exception": false,
     "start_time": "2023-11-13T07:03:29.401461",
     "status": "completed"
    },
    "tags": []
   },
   "outputs": [
    {
     "name": "stdout",
     "output_type": "stream",
     "text": [
      "Best Score is  0.9673497795089541  for  {'alpha': 0.5}\n"
     ]
    }
   ],
   "source": [
    "print('Best Score is ',rcv.best_score_,' for ',rcv.best_params_)"
   ]
  },
  {
   "cell_type": "code",
   "execution_count": 21,
   "id": "92beeafa",
   "metadata": {
    "execution": {
     "iopub.execute_input": "2023-11-13T07:03:29.454911Z",
     "iopub.status.busy": "2023-11-13T07:03:29.454212Z",
     "iopub.status.idle": "2023-11-13T07:03:29.480037Z",
     "shell.execute_reply": "2023-11-13T07:03:29.478783Z"
    },
    "papermill": {
     "duration": 0.043646,
     "end_time": "2023-11-13T07:03:29.482820",
     "exception": false,
     "start_time": "2023-11-13T07:03:29.439174",
     "status": "completed"
    },
    "tags": []
   },
   "outputs": [
    {
     "name": "stdout",
     "output_type": "stream",
     "text": [
      "              precision    recall  f1-score   support\n",
      "\n",
      "           0       0.96      1.00      0.98       903\n",
      "           1       1.00      0.75      0.86       131\n",
      "\n",
      "    accuracy                           0.97      1034\n",
      "   macro avg       0.98      0.87      0.92      1034\n",
      "weighted avg       0.97      0.97      0.97      1034\n",
      "\n"
     ]
    }
   ],
   "source": [
    "mnb_idf = MultinomialNB(alpha = 0.5)\n",
    "\n",
    "mnb_idf.fit(Xtrain_idf,ytrain)\n",
    "\n",
    "y_pred_idf = mnb_idf.predict(Xtest_idf)\n",
    "\n",
    "print(classification_report(ytest,y_pred_idf))"
   ]
  },
  {
   "cell_type": "code",
   "execution_count": 22,
   "id": "81176ba6",
   "metadata": {
    "execution": {
     "iopub.execute_input": "2023-11-13T07:03:29.514110Z",
     "iopub.status.busy": "2023-11-13T07:03:29.513225Z",
     "iopub.status.idle": "2023-11-13T07:03:29.809959Z",
     "shell.execute_reply": "2023-11-13T07:03:29.808723Z"
    },
    "papermill": {
     "duration": 0.315453,
     "end_time": "2023-11-13T07:03:29.812701",
     "exception": false,
     "start_time": "2023-11-13T07:03:29.497248",
     "status": "completed"
    },
    "tags": []
   },
   "outputs": [
    {
     "data": {
      "image/png": "[encoded data removed]",
      "text/plain": [
       "<Figure size 640x480 with 2 Axes>"
      ]
     },
     "metadata": {},
     "output_type": "display_data"
    }
   ],
   "source": [
    "cm = confusion_matrix(ytest, y_pred_idf)\n",
    "fig, ax = plot_confusion_matrix(conf_mat=cm , show_absolute=True, show_normed=True, colorbar=True, class_names=[\"ham\", \"spam\"])\n",
    "\n",
    "plt.show()"
   ]
  },
  {
   "cell_type": "code",
   "execution_count": 23,
   "id": "b4fe2bf4",
   "metadata": {
    "execution": {
     "iopub.execute_input": "2023-11-13T07:03:29.843895Z",
     "iopub.status.busy": "2023-11-13T07:03:29.843415Z",
     "iopub.status.idle": "2023-11-13T07:03:29.854713Z",
     "shell.execute_reply": "2023-11-13T07:03:29.853329Z"
    },
    "papermill": {
     "duration": 0.030306,
     "end_time": "2023-11-13T07:03:29.857228",
     "exception": false,
     "start_time": "2023-11-13T07:03:29.826922",
     "status": "completed"
    },
    "tags": []
   },
   "outputs": [
    {
     "name": "stdout",
     "output_type": "stream",
     "text": [
      "Train Accuracy -  0.9961305925030229\n",
      "Test Accuracy -  0.9680851063829787\n"
     ]
    }
   ],
   "source": [
    "print('Train Accuracy - ', accuracy_score(ytrain,mnb_idf.predict(Xtrain_idf)))\n",
    "print(\"Test Accuracy - \", accuracy_score(ytest,y_pred_idf))"
   ]
  },
  {
   "cell_type": "code",
   "execution_count": 24,
   "id": "c53eeff0",
   "metadata": {
    "execution": {
     "iopub.execute_input": "2023-11-13T07:03:29.888358Z",
     "iopub.status.busy": "2023-11-13T07:03:29.887166Z",
     "iopub.status.idle": "2023-11-13T07:03:30.188058Z",
     "shell.execute_reply": "2023-11-13T07:03:30.186743Z"
    },
    "papermill": {
     "duration": 0.319094,
     "end_time": "2023-11-13T07:03:30.190601",
     "exception": false,
     "start_time": "2023-11-13T07:03:29.871507",
     "status": "completed"
    },
    "tags": []
   },
   "outputs": [
    {
     "data": {
      "text/plain": [
       "<matplotlib.legend.Legend at 0x7e92a5aa7cd0>"
      ]
     },
     "execution_count": 24,
     "metadata": {},
     "output_type": "execute_result"
    },
    {
     "data": {
      "image/png": "[encoded data removed]",
      "text/plain": [
       "<Figure size 640x480 with 1 Axes>"
      ]
     },
     "metadata": {},
     "output_type": "display_data"
    }
   ],
   "source": [
    "fpr, tpr, _ = roc_curve(ytest, y_pred_idf)\n",
    "mnb_cv_roc_auc = auc(fpr, tpr)\n",
    "\n",
    "plt.figure()\n",
    "plt.plot(fpr, tpr, color=\"darkorange\", lw=2, label=f\"ROC curve (area = {mnb_cv_roc_auc :.4f})\")\n",
    "plt.plot([0, 1], [0, 1], color=\"navy\", lw=2, linestyle=\"--\")\n",
    "plt.xlim([0.0, 1.0])\n",
    "plt.ylim([0.0, 1.0])\n",
    "plt.legend(loc=\"lower right\")"
   ]
  },
  {
   "cell_type": "markdown",
   "id": "fd0af3c5",
   "metadata": {
    "papermill": {
     "duration": 0.01519,
     "end_time": "2023-11-13T07:03:30.220719",
     "exception": false,
     "start_time": "2023-11-13T07:03:30.205529",
     "status": "completed"
    },
    "tags": []
   },
   "source": [
    "## MultinomialNB + CountVectorizer"
   ]
  },
  {
   "cell_type": "code",
   "execution_count": 25,
   "id": "685d1d9f",
   "metadata": {
    "execution": {
     "iopub.execute_input": "2023-11-13T07:03:30.254393Z",
     "iopub.status.busy": "2023-11-13T07:03:30.253518Z",
     "iopub.status.idle": "2023-11-13T07:03:30.732229Z",
     "shell.execute_reply": "2023-11-13T07:03:30.731073Z"
    },
    "papermill": {
     "duration": 0.498522,
     "end_time": "2023-11-13T07:03:30.734815",
     "exception": false,
     "start_time": "2023-11-13T07:03:30.236293",
     "status": "completed"
    },
    "tags": []
   },
   "outputs": [
    {
     "name": "stdout",
     "output_type": "stream",
     "text": [
      "Fitting 10 folds for each of 8 candidates, totalling 80 fits\n"
     ]
    },
    {
     "data": {
      "text/html": [
       "<style>#sk-container-id-2 {color: black;background-color: white;}#sk-container-id-2 pre{padding: 0;}#sk-container-id-2 div.sk-toggleable {background-color: white;}#sk-container-id-2 label.sk-toggleable__label {cursor: pointer;display: block;width: 100%;margin-bottom: 0;padding: 0.3em;box-sizing: border-box;text-align: center;}#sk-container-id-2 label.sk-toggleable__label-arrow:before {content: \"▸\";float: left;margin-right: 0.25em;color: #696969;}#sk-container-id-2 label.sk-toggleable__label-arrow:hover:before {color: black;}#sk-container-id-2 div.sk-estimator:hover label.sk-toggleable__label-arrow:before {color: black;}#sk-container-id-2 div.sk-toggleable__content {max-height: 0;max-width: 0;overflow: hidden;text-align: left;background-color: #f0f8ff;}#sk-container-id-2 div.sk-toggleable__content pre {margin: 0.2em;color: black;border-radius: 0.25em;background-color: #f0f8ff;}#sk-container-id-2 input.sk-toggleable__control:checked~div.sk-toggleable__content {max-height: 200px;max-width: 100%;overflow: auto;}#sk-container-id-2 input.sk-toggleable__control:checked~label.sk-toggleable__label-arrow:before {content: \"▾\";}#sk-container-id-2 div.sk-estimator input.sk-toggleable__control:checked~label.sk-toggleable__label {background-color: #d4ebff;}#sk-container-id-2 div.sk-label input.sk-toggleable__control:checked~label.sk-toggleable__label {background-color: #d4ebff;}#sk-container-id-2 input.sk-hidden--visually {border: 0;clip: rect(1px 1px 1px 1px);clip: rect(1px, 1px, 1px, 1px);height: 1px;margin: -1px;overflow: hidden;padding: 0;position: absolute;width: 1px;}#sk-container-id-2 div.sk-estimator {font-family: monospace;background-color: #f0f8ff;border: 1px dotted black;border-radius: 0.25em;box-sizing: border-box;margin-bottom: 0.5em;}#sk-container-id-2 div.sk-estimator:hover {background-color: #d4ebff;}#sk-container-id-2 div.sk-parallel-item::after {content: \"\";width: 100%;border-bottom: 1px solid gray;flex-grow: 1;}#sk-container-id-2 div.sk-label:hover label.sk-toggleable__label {background-color: #d4ebff;}#sk-container-id-2 div.sk-serial::before {content: \"\";position: absolute;border-left: 1px solid gray;box-sizing: border-box;top: 0;bottom: 0;left: 50%;z-index: 0;}#sk-container-id-2 div.sk-serial {display: flex;flex-direction: column;align-items: center;background-color: white;padding-right: 0.2em;padding-left: 0.2em;position: relative;}#sk-container-id-2 div.sk-item {position: relative;z-index: 1;}#sk-container-id-2 div.sk-parallel {display: flex;align-items: stretch;justify-content: center;background-color: white;position: relative;}#sk-container-id-2 div.sk-item::before, #sk-container-id-2 div.sk-parallel-item::before {content: \"\";position: absolute;border-left: 1px solid gray;box-sizing: border-box;top: 0;bottom: 0;left: 50%;z-index: -1;}#sk-container-id-2 div.sk-parallel-item {display: flex;flex-direction: column;z-index: 1;position: relative;background-color: white;}#sk-container-id-2 div.sk-parallel-item:first-child::after {align-self: flex-end;width: 50%;}#sk-container-id-2 div.sk-parallel-item:last-child::after {align-self: flex-start;width: 50%;}#sk-container-id-2 div.sk-parallel-item:only-child::after {width: 0;}#sk-container-id-2 div.sk-dashed-wrapped {border: 1px dashed gray;margin: 0 0.4em 0.5em 0.4em;box-sizing: border-box;padding-bottom: 0.4em;background-color: white;}#sk-container-id-2 div.sk-label label {font-family: monospace;font-weight: bold;display: inline-block;line-height: 1.2em;}#sk-container-id-2 div.sk-label-container {text-align: center;}#sk-container-id-2 div.sk-container {/* jupyter's `normalize.less` sets `[hidden] { display: none; }` but bootstrap.min.css set `[hidden] { display: none !important; }` so we also need the `!important` here to be able to override the default hidden behavior on the sphinx rendered scikit-learn.org. See: https://github.com/scikit-learn/scikit-learn/issues/21755 */display: inline-block !important;position: relative;}#sk-container-id-2 div.sk-text-repr-fallback {display: none;}</style><div id=\"sk-container-id-2\" class=\"sk-top-container\"><div class=\"sk-text-repr-fallback\"><pre>RandomizedSearchCV(cv=10, estimator=MultinomialNB(), n_jobs=-1,\n",
       "                   param_distributions={&#x27;alpha&#x27;: [0.1, 0.5, 0.8, 1, 2, 5, 7,\n",
       "                                                  10]},\n",
       "                   random_state=3, scoring=&#x27;accuracy&#x27;, verbose=3)</pre><b>In a Jupyter environment, please rerun this cell to show the HTML representation or trust the notebook. <br />On GitHub, the HTML representation is unable to render, please try loading this page with nbviewer.org.</b></div><div class=\"sk-container\" hidden><div class=\"sk-item sk-dashed-wrapped\"><div class=\"sk-label-container\"><div class=\"sk-label sk-toggleable\"><input class=\"sk-toggleable__control sk-hidden--visually\" id=\"sk-estimator-id-4\" type=\"checkbox\" ><label for=\"sk-estimator-id-4\" class=\"sk-toggleable__label sk-toggleable__label-arrow\">RandomizedSearchCV</label><div class=\"sk-toggleable__content\"><pre>RandomizedSearchCV(cv=10, estimator=MultinomialNB(), n_jobs=-1,\n",
       "                   param_distributions={&#x27;alpha&#x27;: [0.1, 0.5, 0.8, 1, 2, 5, 7,\n",
       "                                                  10]},\n",
       "                   random_state=3, scoring=&#x27;accuracy&#x27;, verbose=3)</pre></div></div></div><div class=\"sk-parallel\"><div class=\"sk-parallel-item\"><div class=\"sk-item\"><div class=\"sk-label-container\"><div class=\"sk-label sk-toggleable\"><input class=\"sk-toggleable__control sk-hidden--visually\" id=\"sk-estimator-id-5\" type=\"checkbox\" ><label for=\"sk-estimator-id-5\" class=\"sk-toggleable__label sk-toggleable__label-arrow\">estimator: MultinomialNB</label><div class=\"sk-toggleable__content\"><pre>MultinomialNB()</pre></div></div></div><div class=\"sk-serial\"><div class=\"sk-item\"><div class=\"sk-estimator sk-toggleable\"><input class=\"sk-toggleable__control sk-hidden--visually\" id=\"sk-estimator-id-6\" type=\"checkbox\" ><label for=\"sk-estimator-id-6\" class=\"sk-toggleable__label sk-toggleable__label-arrow\">MultinomialNB</label><div class=\"sk-toggleable__content\"><pre>MultinomialNB()</pre></div></div></div></div></div></div></div></div></div></div>"
      ],
      "text/plain": [
       "RandomizedSearchCV(cv=10, estimator=MultinomialNB(), n_jobs=-1,\n",
       "                   param_distributions={'alpha': [0.1, 0.5, 0.8, 1, 2, 5, 7,\n",
       "                                                  10]},\n",
       "                   random_state=3, scoring='accuracy', verbose=3)"
      ]
     },
     "execution_count": 25,
     "metadata": {},
     "output_type": "execute_result"
    }
   ],
   "source": [
    "rcv.fit(Xtrain_cv,ytrain)"
   ]
  },
  {
   "cell_type": "code",
   "execution_count": 26,
   "id": "5285b941",
   "metadata": {
    "execution": {
     "iopub.execute_input": "2023-11-13T07:03:30.768709Z",
     "iopub.status.busy": "2023-11-13T07:03:30.767421Z",
     "iopub.status.idle": "2023-11-13T07:03:30.775105Z",
     "shell.execute_reply": "2023-11-13T07:03:30.773775Z"
    },
    "papermill": {
     "duration": 0.027908,
     "end_time": "2023-11-13T07:03:30.778302",
     "exception": false,
     "start_time": "2023-11-13T07:03:30.750394",
     "status": "completed"
    },
    "tags": []
   },
   "outputs": [
    {
     "name": "stdout",
     "output_type": "stream",
     "text": [
      "Best Score is  0.9845205928109391  for  {'alpha': 5}\n"
     ]
    }
   ],
   "source": [
    "print('Best Score is ',rcv.best_score_,' for ',rcv.best_params_)"
   ]
  },
  {
   "cell_type": "code",
   "execution_count": 27,
   "id": "6fa22dc6",
   "metadata": {
    "execution": {
     "iopub.execute_input": "2023-11-13T07:03:30.811997Z",
     "iopub.status.busy": "2023-11-13T07:03:30.810836Z",
     "iopub.status.idle": "2023-11-13T07:03:30.834001Z",
     "shell.execute_reply": "2023-11-13T07:03:30.832729Z"
    },
    "papermill": {
     "duration": 0.042926,
     "end_time": "2023-11-13T07:03:30.836704",
     "exception": false,
     "start_time": "2023-11-13T07:03:30.793778",
     "status": "completed"
    },
    "tags": []
   },
   "outputs": [
    {
     "name": "stdout",
     "output_type": "stream",
     "text": [
      "              precision    recall  f1-score   support\n",
      "\n",
      "           0       0.98      1.00      0.99       903\n",
      "           1       1.00      0.85      0.92       131\n",
      "\n",
      "    accuracy                           0.98      1034\n",
      "   macro avg       0.99      0.93      0.96      1034\n",
      "weighted avg       0.98      0.98      0.98      1034\n",
      "\n"
     ]
    }
   ],
   "source": [
    "mnb_cv = MultinomialNB(alpha = 5)\n",
    "\n",
    "mnb_cv.fit(Xtrain_cv,ytrain)\n",
    "\n",
    "y_pred_cv = mnb_cv.predict(Xtest_cv)\n",
    "\n",
    "print(classification_report(ytest,y_pred_cv))"
   ]
  },
  {
   "cell_type": "code",
   "execution_count": 28,
   "id": "5da87daf",
   "metadata": {
    "execution": {
     "iopub.execute_input": "2023-11-13T07:03:30.871655Z",
     "iopub.status.busy": "2023-11-13T07:03:30.870864Z",
     "iopub.status.idle": "2023-11-13T07:03:31.170400Z",
     "shell.execute_reply": "2023-11-13T07:03:31.168967Z"
    },
    "papermill": {
     "duration": 0.320599,
     "end_time": "2023-11-13T07:03:31.173066",
     "exception": false,
     "start_time": "2023-11-13T07:03:30.852467",
     "status": "completed"
    },
    "tags": []
   },
   "outputs": [
    {
     "data": {
      "image/png": "[encoded data removed]",
      "text/plain": [
       "<Figure size 640x480 with 2 Axes>"
      ]
     },
     "metadata": {},
     "output_type": "display_data"
    }
   ],
   "source": [
    "cm = confusion_matrix(ytest, y_pred_cv)\n",
    "fig, ax = plot_confusion_matrix(conf_mat=cm , show_absolute=True, show_normed=True, colorbar=True, class_names=[\"ham\", \"spam\"])\n",
    "\n",
    "plt.show()"
   ]
  },
  {
   "cell_type": "code",
   "execution_count": 29,
   "id": "b184a4ef",
   "metadata": {
    "execution": {
     "iopub.execute_input": "2023-11-13T07:03:31.208999Z",
     "iopub.status.busy": "2023-11-13T07:03:31.208545Z",
     "iopub.status.idle": "2023-11-13T07:03:31.218996Z",
     "shell.execute_reply": "2023-11-13T07:03:31.218124Z"
    },
    "papermill": {
     "duration": 0.031391,
     "end_time": "2023-11-13T07:03:31.221228",
     "exception": false,
     "start_time": "2023-11-13T07:03:31.189837",
     "status": "completed"
    },
    "tags": []
   },
   "outputs": [
    {
     "name": "stdout",
     "output_type": "stream",
     "text": [
      "Train Accuracy -  0.9951632406287787\n",
      "Test Accuracy -  0.9816247582205029\n"
     ]
    }
   ],
   "source": [
    "print('Train Accuracy - ', accuracy_score(ytrain,mnb_cv.predict(Xtrain_cv)))\n",
    "print(\"Test Accuracy - \", accuracy_score(ytest,y_pred_cv))"
   ]
  },
  {
   "cell_type": "code",
   "execution_count": 30,
   "id": "228747ab",
   "metadata": {
    "execution": {
     "iopub.execute_input": "2023-11-13T07:03:31.255713Z",
     "iopub.status.busy": "2023-11-13T07:03:31.255052Z",
     "iopub.status.idle": "2023-11-13T07:03:31.687744Z",
     "shell.execute_reply": "2023-11-13T07:03:31.686244Z"
    },
    "papermill": {
     "duration": 0.453371,
     "end_time": "2023-11-13T07:03:31.690654",
     "exception": false,
     "start_time": "2023-11-13T07:03:31.237283",
     "status": "completed"
    },
    "tags": []
   },
   "outputs": [
    {
     "data": {
      "text/plain": [
       "<matplotlib.legend.Legend at 0x7e92a5b22890>"
      ]
     },
     "execution_count": 30,
     "metadata": {},
     "output_type": "execute_result"
    },
    {
     "data": {
      "image/png": "[encoded data removed]",
      "text/plain": [
       "<Figure size 640x480 with 1 Axes>"
      ]
     },
     "metadata": {},
     "output_type": "display_data"
    }
   ],
   "source": [
    "fpr, tpr, _ = roc_curve(ytest, y_pred_cv)\n",
    "mnb_cv_roc_auc = auc(fpr, tpr)\n",
    "\n",
    "plt.figure()\n",
    "plt.plot(fpr, tpr, color=\"darkorange\", lw=2, label=f\"ROC curve (area = {mnb_cv_roc_auc :.4f})\")\n",
    "plt.plot([0, 1], [0, 1], color=\"navy\", lw=2, linestyle=\"--\")\n",
    "plt.xlim([0.0, 1.0])\n",
    "plt.ylim([0.0, 1.0])\n",
    "plt.legend(loc=\"lower right\")"
   ]
  },
  {
   "cell_type": "code",
   "execution_count": null,
   "id": "eabfde2c",
   "metadata": {
    "papermill": {
     "duration": 0.017594,
     "end_time": "2023-11-13T07:03:31.726093",
     "exception": false,
     "start_time": "2023-11-13T07:03:31.708499",
     "status": "completed"
    },
    "tags": []
   },
   "outputs": [],
   "source": []
  }
 ],
 "metadata": {
  "kernelspec": {
   "display_name": "Python 3",
   "language": "python",
   "name": "python3"
  },
  "language_info": {
   "codemirror_mode": {
    "name": "ipython",
    "version": 3
   },
   "file_extension": ".py",
   "mimetype": "text/x-python",
   "name": "python",
   "nbconvert_exporter": "python",
   "pygments_lexer": "ipython3",
   "version": "3.10.12"
  },
  "papermill": {
   "default_parameters": {},
   "duration": 17.342212,
   "end_time": "2023-11-13T07:03:34.364920",
   "environment_variables": {},
   "exception": null,
   "input_path": "__notebook__.ipynb",
   "output_path": "__notebook__.ipynb",
   "parameters": {},
   "start_time": "2023-11-13T07:03:17.022708",
   "version": "2.4.0"
  }
 },
 "nbformat": 4,
 "nbformat_minor": 5
}
